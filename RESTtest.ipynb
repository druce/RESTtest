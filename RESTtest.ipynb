{
 "cells": [
  {
   "cell_type": "code",
   "execution_count": 1,
   "id": "5f8cb93e",
   "metadata": {},
   "outputs": [
    {
     "name": "stdout",
     "output_type": "stream",
     "text": [
      "2792 https://wolferesearch-test.bluematrix.com/docs/xml/ff8ea0f5-7d53-47d2-a345-bf75a58057ef.xml\n",
      "2793 https://wolferesearch-test.bluematrix.com/docs/xml/ff8ea0f5-7d53-47d2-a345-bf75a58057ef.xml\n",
      "2794 https://wolferesearch-test.bluematrix.com/docs/xml/ff8ea0f5-7d53-47d2-a345-bf75a58057ef.xml\n",
      "2795 https://wolferesearch-test.bluematrix.com/docs/xml/ff8ea0f5-7d53-47d2-a345-bf75a58057ef.xml\n",
      "2796 https://wolferesearch-test.bluematrix.com/docs/xml/ff8ea0f5-7d53-47d2-a345-bf75a58057ef.xml\n",
      "2797 https://wolferesearch-test.bluematrix.com/docs/xml/ff8ea0f5-7d53-47d2-a345-bf75a58057ef.xml\n",
      "2798 https://wolferesearch-test.bluematrix.com/docs/xml/ff8ea0f5-7d53-47d2-a345-bf75a58057ef.xml\n"
     ]
    }
   ],
   "source": [
    "import requests\n",
    "from xml.etree import ElementTree\n",
    "\n",
    "# url = \"someurl\"\n",
    "# response = requests.get(url)\n",
    "# xmlstr = response.content\n",
    "\n",
    "xmlstr = \"\"\"<?xml version=\"1.0\" encoding=\"UTF-8\"?>\n",
    "<DataFeed>\n",
    "    <timeframe>2021-03-21T12:03:06.00</timeframe>\n",
    "    <now>2021-03-22T12:03:06.00</now>\n",
    "    <ChangeEvent  EventId=\"2792\" FeedName=\"Content\" ImportType=\"I\" Parameter=\"14\" ChangeType=\"add\" Date=\"2021-03-22T09:10:07.00\" CurrentState=\"Published\" CompletedState=\"\" XmlUrl=\"https://wolferesearch-test.bluematrix.com/docs/xml/ff8ea0f5-7d53-47d2-a345-bf75a58057ef.xml\" Url=\"https://wolferesearch-test.bluematrix.com/sellside/ChangeFeed.action?firmId=96533&amp;mode=Content&amp;param=14\" />\n",
    "    <ChangeEvent  EventId=\"2793\" FeedName=\"Content\" ImportType=\"I\" Parameter=\"14\" ChangeType=\"statusChanged\" Date=\"2021-03-22T09:13:41.00\" CurrentState=\"Published\" CompletedState=\"Author\" XmlUrl=\"https://wolferesearch-test.bluematrix.com/docs/xml/ff8ea0f5-7d53-47d2-a345-bf75a58057ef.xml\" Url=\"https://wolferesearch-test.bluematrix.com/sellside/ChangeFeed.action?firmId=96533&amp;mode=Content&amp;param=14\" />\n",
    "    <ChangeEvent  EventId=\"2794\" FeedName=\"Content\" ImportType=\"I\" Parameter=\"14\" ChangeType=\"aqadd\" Date=\"2021-03-22T09:13:41.00\" CurrentState=\"Published\" CompletedState=\"\" XmlUrl=\"https://wolferesearch-test.bluematrix.com/docs/xml/ff8ea0f5-7d53-47d2-a345-bf75a58057ef.xml\" Url=\"https://wolferesearch-test.bluematrix.com/sellside/ChangeFeed.action?firmId=96533&amp;mode=Content&amp;param=14\" />\n",
    "    <ChangeEvent  EventId=\"2795\" FeedName=\"Content\" ImportType=\"I\" Parameter=\"14\" ChangeType=\"statusChanged\" Date=\"2021-03-22T09:13:52.00\" CurrentState=\"Published\" CompletedState=\"Editorial\" XmlUrl=\"https://wolferesearch-test.bluematrix.com/docs/xml/ff8ea0f5-7d53-47d2-a345-bf75a58057ef.xml\" Url=\"https://wolferesearch-test.bluematrix.com/sellside/ChangeFeed.action?firmId=96533&amp;mode=Content&amp;param=14\" />\n",
    "    <ChangeEvent  EventId=\"2796\" FeedName=\"Content\" ImportType=\"I\" Parameter=\"14\" ChangeType=\"statusChanged\" Date=\"2021-03-22T09:14:08.00\" CurrentState=\"Published\" CompletedState=\"SA\" XmlUrl=\"https://wolferesearch-test.bluematrix.com/docs/xml/ff8ea0f5-7d53-47d2-a345-bf75a58057ef.xml\" Url=\"https://wolferesearch-test.bluematrix.com/sellside/ChangeFeed.action?firmId=96533&amp;mode=Content&amp;param=14\" />\n",
    "    <ChangeEvent  EventId=\"2797\" FeedName=\"Content\" ImportType=\"I\" Parameter=\"14\" ChangeType=\"statusChanged\" Date=\"2021-03-22T09:14:13.00\" CurrentState=\"Published\" CompletedState=\"Publish\" XmlUrl=\"https://wolferesearch-test.bluematrix.com/docs/xml/ff8ea0f5-7d53-47d2-a345-bf75a58057ef.xml\" Url=\"https://wolferesearch-test.bluematrix.com/sellside/ChangeFeed.action?firmId=96533&amp;mode=Content&amp;param=14\" />\n",
    "    <ChangeEvent  EventId=\"2798\" FeedName=\"Content\" ImportType=\"I\" Parameter=\"14\" ChangeType=\"pub\" Date=\"2021-03-22T09:14:26.00\" CurrentState=\"Published\" CompletedState=\"Publish\" XmlUrl=\"https://wolferesearch-test.bluematrix.com/docs/xml/ff8ea0f5-7d53-47d2-a345-bf75a58057ef.xml\" Url=\"https://wolferesearch-test.bluematrix.com/sellside/ChangeFeed.action?firmId=96533&amp;mode=Content&amp;param=14\" />\n",
    "    <ChangeEvent  EventId=\"2799\" FeedName=\"Content\" ImportType=\"I\" Parameter=\"15\" ChangeType=\"add\" Date=\"2021-03-22T11:21:22.00\" CurrentState=\"Author\" CompletedState=\"\" XmlUrl=\"https://wolferesearch-test.bluematrix.com/sellside/DocViewer?firmId=96533&amp;&amp;encrypt=3a361ec1-46e1-4e1f-9db2-de96ba4d21ea&amp;mime=XML\" Url=\"https://wolferesearch-test.bluematrix.com/sellside/ChangeFeed.action?firmId=96533&amp;mode=Content&amp;param=15\" />\n",
    "    <ChangeEvent  EventId=\"2800\" FeedName=\"Elements\" ImportType=\"I\" Parameter=\"231\" ElementType=\"Clusters\" ChangeType=\"mod\" Date=\"2021-03-22T11:21:55.00\" Url=\"https://wolferesearch-test.bluematrix.com/sellside/ChangeFeed.action?firmId=96533&amp;mode=Elements&amp;param=231\" />\n",
    "</DataFeed>\n",
    "\"\"\"\n",
    "\n",
    "root = ElementTree.fromstring(xmlstr)\n",
    "\n",
    "for child in root:\n",
    "    if child.tag == \"ChangeEvent\":\n",
    "        if 'CurrentState' in child.attrib:\n",
    "            if child.attrib['CurrentState'] == 'Published':\n",
    "                print (child.attrib['EventId'], child.attrib['XmlUrl'])"
   ]
  },
  {
   "cell_type": "code",
   "execution_count": 2,
   "id": "c4119268",
   "metadata": {},
   "outputs": [
    {
     "name": "stdout",
     "output_type": "stream",
     "text": [
      "200 {'args': {}, 'data': '{\"EventId\": \"2792\", \"XmlUrl\": \"https://wolferesearch-test.bluematrix.com/docs/xml/ff8ea0f5-7d53-47d2-a345-bf75a58057ef.xml\"}', 'files': {}, 'form': {}, 'headers': {'Accept': '*/*', 'Accept-Encoding': 'gzip, deflate', 'Content-Length': '124', 'Content-Type': 'application/json', 'Host': 'httpbin.org', 'User-Agent': 'python-requests/2.25.1', 'X-Amzn-Trace-Id': 'Root=1-60de436d-0bb12c5655a4d440468b11f3'}, 'json': {'EventId': '2792', 'XmlUrl': 'https://wolferesearch-test.bluematrix.com/docs/xml/ff8ea0f5-7d53-47d2-a345-bf75a58057ef.xml'}, 'origin': '38.142.205.90', 'url': 'http://httpbin.org/post'}\n",
      "200 {'args': {}, 'data': '{\"EventId\": \"2793\", \"XmlUrl\": \"https://wolferesearch-test.bluematrix.com/docs/xml/ff8ea0f5-7d53-47d2-a345-bf75a58057ef.xml\"}', 'files': {}, 'form': {}, 'headers': {'Accept': '*/*', 'Accept-Encoding': 'gzip, deflate', 'Content-Length': '124', 'Content-Type': 'application/json', 'Host': 'httpbin.org', 'User-Agent': 'python-requests/2.25.1', 'X-Amzn-Trace-Id': 'Root=1-60de436d-1bfc0b07400b9cec7016cec2'}, 'json': {'EventId': '2793', 'XmlUrl': 'https://wolferesearch-test.bluematrix.com/docs/xml/ff8ea0f5-7d53-47d2-a345-bf75a58057ef.xml'}, 'origin': '38.142.205.90', 'url': 'http://httpbin.org/post'}\n",
      "200 {'args': {}, 'data': '{\"EventId\": \"2794\", \"XmlUrl\": \"https://wolferesearch-test.bluematrix.com/docs/xml/ff8ea0f5-7d53-47d2-a345-bf75a58057ef.xml\"}', 'files': {}, 'form': {}, 'headers': {'Accept': '*/*', 'Accept-Encoding': 'gzip, deflate', 'Content-Length': '124', 'Content-Type': 'application/json', 'Host': 'httpbin.org', 'User-Agent': 'python-requests/2.25.1', 'X-Amzn-Trace-Id': 'Root=1-60de436d-602f55a00b5f2edb059d2ce3'}, 'json': {'EventId': '2794', 'XmlUrl': 'https://wolferesearch-test.bluematrix.com/docs/xml/ff8ea0f5-7d53-47d2-a345-bf75a58057ef.xml'}, 'origin': '38.142.205.90', 'url': 'http://httpbin.org/post'}\n",
      "200 {'args': {}, 'data': '{\"EventId\": \"2795\", \"XmlUrl\": \"https://wolferesearch-test.bluematrix.com/docs/xml/ff8ea0f5-7d53-47d2-a345-bf75a58057ef.xml\"}', 'files': {}, 'form': {}, 'headers': {'Accept': '*/*', 'Accept-Encoding': 'gzip, deflate', 'Content-Length': '124', 'Content-Type': 'application/json', 'Host': 'httpbin.org', 'User-Agent': 'python-requests/2.25.1', 'X-Amzn-Trace-Id': 'Root=1-60de436d-5111ee9278ee0a537392440b'}, 'json': {'EventId': '2795', 'XmlUrl': 'https://wolferesearch-test.bluematrix.com/docs/xml/ff8ea0f5-7d53-47d2-a345-bf75a58057ef.xml'}, 'origin': '38.142.205.90', 'url': 'http://httpbin.org/post'}\n",
      "200 {'args': {}, 'data': '{\"EventId\": \"2796\", \"XmlUrl\": \"https://wolferesearch-test.bluematrix.com/docs/xml/ff8ea0f5-7d53-47d2-a345-bf75a58057ef.xml\"}', 'files': {}, 'form': {}, 'headers': {'Accept': '*/*', 'Accept-Encoding': 'gzip, deflate', 'Content-Length': '124', 'Content-Type': 'application/json', 'Host': 'httpbin.org', 'User-Agent': 'python-requests/2.25.1', 'X-Amzn-Trace-Id': 'Root=1-60de436d-364021e47532a09e35904535'}, 'json': {'EventId': '2796', 'XmlUrl': 'https://wolferesearch-test.bluematrix.com/docs/xml/ff8ea0f5-7d53-47d2-a345-bf75a58057ef.xml'}, 'origin': '38.142.205.90', 'url': 'http://httpbin.org/post'}\n",
      "200 {'args': {}, 'data': '{\"EventId\": \"2797\", \"XmlUrl\": \"https://wolferesearch-test.bluematrix.com/docs/xml/ff8ea0f5-7d53-47d2-a345-bf75a58057ef.xml\"}', 'files': {}, 'form': {}, 'headers': {'Accept': '*/*', 'Accept-Encoding': 'gzip, deflate', 'Content-Length': '124', 'Content-Type': 'application/json', 'Host': 'httpbin.org', 'User-Agent': 'python-requests/2.25.1', 'X-Amzn-Trace-Id': 'Root=1-60de436d-7d817aed58cd131356d7876b'}, 'json': {'EventId': '2797', 'XmlUrl': 'https://wolferesearch-test.bluematrix.com/docs/xml/ff8ea0f5-7d53-47d2-a345-bf75a58057ef.xml'}, 'origin': '38.142.205.90', 'url': 'http://httpbin.org/post'}\n",
      "200 {'args': {}, 'data': '{\"EventId\": \"2798\", \"XmlUrl\": \"https://wolferesearch-test.bluematrix.com/docs/xml/ff8ea0f5-7d53-47d2-a345-bf75a58057ef.xml\"}', 'files': {}, 'form': {}, 'headers': {'Accept': '*/*', 'Accept-Encoding': 'gzip, deflate', 'Content-Length': '124', 'Content-Type': 'application/json', 'Host': 'httpbin.org', 'User-Agent': 'python-requests/2.25.1', 'X-Amzn-Trace-Id': 'Root=1-60de436d-7b31b4505007f3982d5c0a93'}, 'json': {'EventId': '2798', 'XmlUrl': 'https://wolferesearch-test.bluematrix.com/docs/xml/ff8ea0f5-7d53-47d2-a345-bf75a58057ef.xml'}, 'origin': '38.142.205.90', 'url': 'http://httpbin.org/post'}\n"
     ]
    }
   ],
   "source": [
    "for child in root:\n",
    "    if child.tag == \"ChangeEvent\":\n",
    "        if 'CurrentState' in child.attrib:\n",
    "            if child.attrib['CurrentState'] == 'Published':\n",
    "                r = requests.post('http://httpbin.org/post', json={\"EventId\": child.attrib['EventId'],\n",
    "                                                                   \"XmlUrl\": child.attrib['XmlUrl']})\n",
    "                if r.ok: # status_code == 200:\n",
    "                    print(r.status_code, r.json())\n",
    "                else:\n",
    "                    print(r.status_code, \"POST failed\")\n",
    "                        \n"
   ]
  },
  {
   "cell_type": "code",
   "execution_count": null,
   "id": "6482186b",
   "metadata": {},
   "outputs": [],
   "source": []
  }
 ],
 "metadata": {
  "kernelspec": {
   "display_name": "Python 3",
   "language": "python",
   "name": "python3"
  },
  "language_info": {
   "codemirror_mode": {
    "name": "ipython",
    "version": 3
   },
   "file_extension": ".py",
   "mimetype": "text/x-python",
   "name": "python",
   "nbconvert_exporter": "python",
   "pygments_lexer": "ipython3",
   "version": "3.7.6"
  },
  "toc": {
   "base_numbering": 1,
   "nav_menu": {},
   "number_sections": true,
   "sideBar": true,
   "skip_h1_title": false,
   "title_cell": "Table of Contents",
   "title_sidebar": "Contents",
   "toc_cell": false,
   "toc_position": {},
   "toc_section_display": true,
   "toc_window_display": false
  },
  "varInspector": {
   "cols": {
    "lenName": 16,
    "lenType": 16,
    "lenVar": 40
   },
   "kernels_config": {
    "python": {
     "delete_cmd_postfix": "",
     "delete_cmd_prefix": "del ",
     "library": "var_list.py",
     "varRefreshCmd": "print(var_dic_list())"
    },
    "r": {
     "delete_cmd_postfix": ") ",
     "delete_cmd_prefix": "rm(",
     "library": "var_list.r",
     "varRefreshCmd": "cat(var_dic_list()) "
    }
   },
   "types_to_exclude": [
    "module",
    "function",
    "builtin_function_or_method",
    "instance",
    "_Feature"
   ],
   "window_display": false
  }
 },
 "nbformat": 4,
 "nbformat_minor": 5
}
